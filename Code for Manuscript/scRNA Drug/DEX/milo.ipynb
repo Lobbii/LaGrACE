{
 "cells": [
  {
   "cell_type": "markdown",
   "id": "b1ee1aeb",
   "metadata": {},
   "source": [
    "# celltype purity"
   ]
  },
  {
   "cell_type": "code",
   "execution_count": 1,
   "id": "cedc89aa",
   "metadata": {
    "vscode": {
     "languageId": "r"
    }
   },
   "outputs": [
    {
     "name": "stderr",
     "output_type": "stream",
     "text": [
      "Loading required package: edgeR\n",
      "\n",
      "Loading required package: limma\n",
      "\n",
      "Loading required package: SummarizedExperiment\n",
      "\n",
      "Loading required package: MatrixGenerics\n",
      "\n",
      "Loading required package: matrixStats\n",
      "\n",
      "\n",
      "Attaching package: 'MatrixGenerics'\n",
      "\n",
      "\n",
      "The following objects are masked from 'package:matrixStats':\n",
      "\n",
      "    colAlls, colAnyNAs, colAnys, colAvgsPerRowSet, colCollapse,\n",
      "    colCounts, colCummaxs, colCummins, colCumprods, colCumsums,\n",
      "    colDiffs, colIQRDiffs, colIQRs, colLogSumExps, colMadDiffs,\n",
      "    colMads, colMaxs, colMeans2, colMedians, colMins, colOrderStats,\n",
      "    colProds, colQuantiles, colRanges, colRanks, colSdDiffs, colSds,\n",
      "    colSums2, colTabulates, colVarDiffs, colVars, colWeightedMads,\n",
      "    colWeightedMeans, colWeightedMedians, colWeightedSds,\n",
      "    colWeightedVars, rowAlls, rowAnyNAs, rowAnys, rowAvgsPerColSet,\n",
      "    rowCollapse, rowCounts, rowCummaxs, rowCummins, rowCumprods,\n",
      "    rowCumsums, rowDiffs, rowIQRDiffs, rowIQRs, rowLogSumExps,\n",
      "    rowMadDiffs, rowMads, rowMaxs, rowMeans2, rowMedians, rowMins,\n",
      "    rowOrderStats, rowProds, rowQuantiles, rowRanges, rowRanks,\n",
      "    rowSdDiffs, rowSds, rowSums2, rowTabulates, rowVarDiffs, rowVars,\n",
      "    rowWeightedMads, rowWeightedMeans, rowWeightedMedians,\n",
      "    rowWeightedSds, rowWeightedVars\n",
      "\n",
      "\n",
      "Loading required package: GenomicRanges\n",
      "\n",
      "Loading required package: stats4\n",
      "\n",
      "Loading required package: BiocGenerics\n",
      "\n",
      "\n",
      "Attaching package: 'BiocGenerics'\n",
      "\n",
      "\n",
      "The following object is masked from 'package:limma':\n",
      "\n",
      "    plotMA\n",
      "\n",
      "\n",
      "The following objects are masked from 'package:stats':\n",
      "\n",
      "    IQR, mad, sd, var, xtabs\n",
      "\n",
      "\n",
      "The following objects are masked from 'package:base':\n",
      "\n",
      "    Filter, Find, Map, Position, Reduce, anyDuplicated, aperm, append,\n",
      "    as.data.frame, basename, cbind, colnames, dirname, do.call,\n",
      "    duplicated, eval, evalq, get, grep, grepl, intersect, is.unsorted,\n",
      "    lapply, mapply, match, mget, order, paste, pmax, pmax.int, pmin,\n",
      "    pmin.int, rank, rbind, rownames, sapply, setdiff, sort, table,\n",
      "    tapply, union, unique, unsplit, which.max, which.min\n",
      "\n",
      "\n",
      "Loading required package: S4Vectors\n",
      "\n",
      "\n",
      "Attaching package: 'S4Vectors'\n",
      "\n",
      "\n",
      "The following objects are masked from 'package:base':\n",
      "\n",
      "    I, expand.grid, unname\n",
      "\n",
      "\n",
      "Loading required package: IRanges\n",
      "\n",
      "Loading required package: GenomeInfoDb\n",
      "\n",
      "Loading required package: Biobase\n",
      "\n",
      "Welcome to Bioconductor\n",
      "\n",
      "    Vignettes contain introductory material; view with\n",
      "    'browseVignettes()'. To cite Bioconductor, see\n",
      "    'citation(\"Biobase\")', and for packages 'citation(\"pkgname\")'.\n",
      "\n",
      "\n",
      "\n",
      "Attaching package: 'Biobase'\n",
      "\n",
      "\n",
      "The following object is masked from 'package:MatrixGenerics':\n",
      "\n",
      "    rowMedians\n",
      "\n",
      "\n",
      "The following objects are masked from 'package:matrixStats':\n",
      "\n",
      "    anyMissing, rowMedians\n",
      "\n",
      "\n",
      "\n",
      "Attaching package: 'SingleCellExperiment'\n",
      "\n",
      "\n",
      "The following object is masked from 'package:edgeR':\n",
      "\n",
      "    cpm\n",
      "\n",
      "\n",
      "Loading required package: ggplot2\n",
      "\n",
      "Loading required package: SeuratObject\n",
      "\n",
      "Loading required package: sp\n",
      "\n",
      "\n",
      "Attaching package: 'sp'\n",
      "\n",
      "\n",
      "The following object is masked from 'package:IRanges':\n",
      "\n",
      "    %over%\n",
      "\n",
      "\n",
      "\n",
      "Attaching package: 'SeuratObject'\n",
      "\n",
      "\n",
      "The following object is masked from 'package:SummarizedExperiment':\n",
      "\n",
      "    Assays\n",
      "\n",
      "\n",
      "The following object is masked from 'package:GenomicRanges':\n",
      "\n",
      "    intersect\n",
      "\n",
      "\n",
      "The following object is masked from 'package:GenomeInfoDb':\n",
      "\n",
      "    intersect\n",
      "\n",
      "\n",
      "The following object is masked from 'package:IRanges':\n",
      "\n",
      "    intersect\n",
      "\n",
      "\n",
      "The following object is masked from 'package:S4Vectors':\n",
      "\n",
      "    intersect\n",
      "\n",
      "\n",
      "The following object is masked from 'package:BiocGenerics':\n",
      "\n",
      "    intersect\n",
      "\n",
      "\n",
      "The following object is masked from 'package:base':\n",
      "\n",
      "    intersect\n",
      "\n",
      "\n",
      "\n",
      "Attaching package: 'Seurat'\n",
      "\n",
      "\n",
      "The following object is masked from 'package:SummarizedExperiment':\n",
      "\n",
      "    Assays\n",
      "\n",
      "\n"
     ]
    }
   ],
   "source": [
    "library(miloR)\n",
    "library(SingleCellExperiment)\n",
    "library(ggpubr)\n",
    "library(Seurat)"
   ]
  },
  {
   "cell_type": "code",
   "execution_count": 2,
   "id": "431976cb",
   "metadata": {
    "vscode": {
     "languageId": "r"
    }
   },
   "outputs": [
    {
     "name": "stderr",
     "output_type": "stream",
     "text": [
      "Constructing kNN graph with k:10\n",
      "\n",
      "Checking valid object\n",
      "\n",
      "Running refined sampling with reduced_dim\n",
      "\n",
      "Checking meta.data validity\n",
      "\n",
      "Counting cells in neighbourhoods\n",
      "\n"
     ]
    }
   ],
   "source": [
    "Seu_Obj <- readRDS('./expiMap/Seurat.rds')\n",
    "Seu_Obj_sce <- as.SingleCellExperiment(Seu_Obj)\n",
    "Seu_Obj_milo <- Milo(Seu_Obj_sce)\n",
    "rm(Seu_Obj_sce)\n",
    "\n",
    "Seu_Obj_milo <- buildGraph(Seu_Obj_milo, k = 10, d = 30)\n",
    "Seu_Obj_milo <- makeNhoods(Seu_Obj_milo, prop = 0.1, k = 10, d=30, refined = TRUE)\n",
    "\n",
    "Seu_Obj_milo <- countCells(Seu_Obj_milo, meta.data = data.frame(colData(Seu_Obj_milo)), sample=\"treatment_time\")\n",
    "Seu_Obj_milo <- buildNhoodGraph(Seu_Obj_milo)"
   ]
  },
  {
   "cell_type": "code",
   "execution_count": 3,
   "id": "cd8a76b3",
   "metadata": {
    "vscode": {
     "languageId": "r"
    }
   },
   "outputs": [],
   "source": [
    "p <- plotNhoodGraph(Seu_Obj_milo)\n",
    "cowplot::save_plot('./expiMap/noodplot_RNA.png', p,\n",
    "                   base_aspect_ratio = 1, base_height = 5)"
   ]
  },
  {
   "cell_type": "code",
   "execution_count": 4,
   "id": "233d3bea",
   "metadata": {
    "vscode": {
     "languageId": "r"
    }
   },
   "outputs": [
    {
     "name": "stderr",
     "output_type": "stream",
     "text": [
      "Converting treatment_time to factor...\n",
      "\n"
     ]
    }
   ],
   "source": [
    "nhoods_sce = nhoods(Seu_Obj_milo)\n",
    "nhood_stat_ct = data.frame(Nhood = 1:ncol(nhoods_sce) , Nhood_center = colnames(nhoods_sce))\n",
    "nhood_stat_ct = miloR::annotateNhoods(Seu_Obj_milo , nhood_stat_ct , coldata_col = \"treatment_time\")\n",
    "nhood_stat_ct_expiMAP <- nhood_stat_ct"
   ]
  },
  {
   "cell_type": "code",
   "execution_count": 5,
   "id": "5e7162bf",
   "metadata": {
    "vscode": {
     "languageId": "r"
    }
   },
   "outputs": [
    {
     "name": "stderr",
     "output_type": "stream",
     "text": [
      "Constructing kNN graph with k:10\n",
      "\n",
      "Checking valid object\n",
      "\n",
      "Running refined sampling with reduced_dim\n",
      "\n",
      "Checking meta.data validity\n",
      "\n",
      "Counting cells in neighbourhoods\n",
      "\n"
     ]
    }
   ],
   "source": [
    "Seu_Obj <- readRDS('./Spectra/Seurat.rds')\n",
    "Seu_Obj_sce <- as.SingleCellExperiment(Seu_Obj)\n",
    "Seu_Obj_milo <- Milo(Seu_Obj_sce)\n",
    "rm(Seu_Obj_sce)\n",
    "\n",
    "Seu_Obj_milo <- buildGraph(Seu_Obj_milo, k = 10, d = 30)\n",
    "Seu_Obj_milo <- makeNhoods(Seu_Obj_milo, prop = 0.1, k = 10, d=30, refined = TRUE)\n",
    "\n",
    "Seu_Obj_milo <- countCells(Seu_Obj_milo, meta.data = data.frame(colData(Seu_Obj_milo)), sample=\"treatment_time\")\n",
    "Seu_Obj_milo <- buildNhoodGraph(Seu_Obj_milo)"
   ]
  },
  {
   "cell_type": "code",
   "execution_count": 6,
   "id": "7f0bd56d",
   "metadata": {
    "vscode": {
     "languageId": "r"
    }
   },
   "outputs": [],
   "source": [
    "p <- plotNhoodGraph(Seu_Obj_milo)\n",
    "cowplot::save_plot('./Spectra/noodplot_RNA.png', p,\n",
    "                   base_aspect_ratio = 1, base_height = 5)"
   ]
  },
  {
   "cell_type": "code",
   "execution_count": 7,
   "id": "3d51eacd",
   "metadata": {
    "vscode": {
     "languageId": "r"
    }
   },
   "outputs": [
    {
     "name": "stderr",
     "output_type": "stream",
     "text": [
      "Converting treatment_time to factor...\n",
      "\n"
     ]
    }
   ],
   "source": [
    "nhoods_sce = nhoods(Seu_Obj_milo)\n",
    "nhood_stat_ct = data.frame(Nhood = 1:ncol(nhoods_sce) , Nhood_center = colnames(nhoods_sce))\n",
    "nhood_stat_ct = miloR::annotateNhoods(Seu_Obj_milo , nhood_stat_ct , coldata_col = \"treatment_time\")\n",
    "nhood_stat_ct_Spectra <- nhood_stat_ct"
   ]
  },
  {
   "cell_type": "code",
   "execution_count": 14,
   "id": "fae5e093",
   "metadata": {
    "vscode": {
     "languageId": "r"
    }
   },
   "outputs": [
    {
     "name": "stderr",
     "output_type": "stream",
     "text": [
      "Constructing kNN graph with k:10\n",
      "\n",
      "Checking valid object\n",
      "\n",
      "Running refined sampling with reduced_dim\n",
      "\n",
      "Checking meta.data validity\n",
      "\n",
      "Counting cells in neighbourhoods\n",
      "\n"
     ]
    }
   ],
   "source": [
    "Seu_Obj <- readRDS('./Seu_Obj_0.rds')\n",
    "Seu_Obj_sce <- as.SingleCellExperiment(Seu_Obj)\n",
    "Seu_Obj_milo <- Milo(Seu_Obj_sce)\n",
    "rm(Seu_Obj_sce)\n",
    "\n",
    "Seu_Obj_milo <- buildGraph(Seu_Obj_milo, k = 10, d = 30)\n",
    "Seu_Obj_milo <- makeNhoods(Seu_Obj_milo, prop = 0.1, k = 10, d=30, refined = TRUE)\n",
    "\n",
    "Seu_Obj_milo <- countCells(Seu_Obj_milo, meta.data = data.frame(colData(Seu_Obj_milo)), sample=\"treatment_time\")\n",
    "Seu_Obj_milo <- buildNhoodGraph(Seu_Obj_milo)"
   ]
  },
  {
   "cell_type": "code",
   "execution_count": 15,
   "id": "5f0b3150",
   "metadata": {
    "vscode": {
     "languageId": "r"
    }
   },
   "outputs": [],
   "source": [
    "p <- plotNhoodGraph(Seu_Obj_milo)\n",
    "cowplot::save_plot('./noodplot_RNA_raw.png', p,\n",
    "                   base_aspect_ratio = 1, base_height = 5)"
   ]
  },
  {
   "cell_type": "code",
   "execution_count": 16,
   "id": "984395c0",
   "metadata": {
    "vscode": {
     "languageId": "r"
    }
   },
   "outputs": [
    {
     "name": "stderr",
     "output_type": "stream",
     "text": [
      "Converting treatment_time to factor...\n",
      "\n"
     ]
    }
   ],
   "source": [
    "nhoods_sce = nhoods(Seu_Obj_milo)\n",
    "nhood_stat_ct = data.frame(Nhood = 1:ncol(nhoods_sce) , Nhood_center = colnames(nhoods_sce))\n",
    "nhood_stat_ct = miloR::annotateNhoods(Seu_Obj_milo , nhood_stat_ct , coldata_col = \"treatment_time\")\n",
    "nhood_stat_ct_RNA <- nhood_stat_ct"
   ]
  },
  {
   "cell_type": "code",
   "execution_count": 17,
   "id": "2ba5f99d",
   "metadata": {
    "vscode": {
     "languageId": "r"
    }
   },
   "outputs": [
    {
     "name": "stderr",
     "output_type": "stream",
     "text": [
      "Constructing kNN graph with k:10\n",
      "\n",
      "Checking valid object\n",
      "\n",
      "Running refined sampling with reduced_dim\n",
      "\n",
      "Checking meta.data validity\n",
      "\n",
      "Counting cells in neighbourhoods\n",
      "\n"
     ]
    }
   ],
   "source": [
    "Seu_Obj <- readRDS('./Seurat_scvi.rds')\n",
    "Seu_Obj_sce <- as.SingleCellExperiment(Seu_Obj)\n",
    "Seu_Obj_milo <- Milo(Seu_Obj_sce)\n",
    "rm(Seu_Obj_sce)\n",
    "\n",
    "Seu_Obj_milo <- buildGraph(Seu_Obj_milo, k = 10, d = 30)\n",
    "Seu_Obj_milo <- makeNhoods(Seu_Obj_milo, prop = 0.1, k = 10, d=30, refined = TRUE)\n",
    "\n",
    "Seu_Obj_milo <- countCells(Seu_Obj_milo, meta.data = data.frame(colData(Seu_Obj_milo)), sample=\"treatment_time\")\n",
    "Seu_Obj_milo <- buildNhoodGraph(Seu_Obj_milo)"
   ]
  },
  {
   "cell_type": "code",
   "execution_count": 18,
   "id": "24bb81c8",
   "metadata": {
    "vscode": {
     "languageId": "r"
    }
   },
   "outputs": [],
   "source": [
    "p <- plotNhoodGraph(Seu_Obj_milo)\n",
    "cowplot::save_plot('./noodplot_RNA_SCVI.png', p,\n",
    "                   base_aspect_ratio = 1, base_height = 5)"
   ]
  },
  {
   "cell_type": "code",
   "execution_count": 19,
   "id": "f6b57689",
   "metadata": {
    "vscode": {
     "languageId": "r"
    }
   },
   "outputs": [
    {
     "name": "stderr",
     "output_type": "stream",
     "text": [
      "Converting treatment_time to factor...\n",
      "\n"
     ]
    }
   ],
   "source": [
    "nhoods_sce = nhoods(Seu_Obj_milo)\n",
    "nhood_stat_ct = data.frame(Nhood = 1:ncol(nhoods_sce) , Nhood_center = colnames(nhoods_sce))\n",
    "nhood_stat_ct = miloR::annotateNhoods(Seu_Obj_milo , nhood_stat_ct , coldata_col = \"treatment_time\")\n",
    "nhood_stat_ct_SCVI <- nhood_stat_ct"
   ]
  },
  {
   "cell_type": "code",
   "execution_count": 20,
   "id": "86db0bf7",
   "metadata": {
    "vscode": {
     "languageId": "r"
    }
   },
   "outputs": [
    {
     "name": "stderr",
     "output_type": "stream",
     "text": [
      "Constructing kNN graph with k:10\n",
      "\n",
      "Checking valid object\n",
      "\n",
      "Running refined sampling with reduced_dim\n",
      "\n",
      "Checking meta.data validity\n",
      "\n",
      "Counting cells in neighbourhoods\n",
      "\n"
     ]
    }
   ],
   "source": [
    "Seu_Obj <- readRDS('./Seurat_lagrace.rds')\n",
    "Seu_Obj_sce <- as.SingleCellExperiment(Seu_Obj)\n",
    "Seu_Obj_milo <- Milo(Seu_Obj_sce)\n",
    "rm(Seu_Obj_sce)\n",
    "\n",
    "Seu_Obj_milo <- buildGraph(Seu_Obj_milo, k = 10, d = 30)\n",
    "Seu_Obj_milo <- makeNhoods(Seu_Obj_milo, prop = 0.1, k = 10, d=30, refined = TRUE)\n",
    "\n",
    "Seu_Obj_milo <- countCells(Seu_Obj_milo, meta.data = data.frame(colData(Seu_Obj_milo)), sample=\"treatment_time\")\n",
    "Seu_Obj_milo <- buildNhoodGraph(Seu_Obj_milo)"
   ]
  },
  {
   "cell_type": "code",
   "execution_count": 21,
   "id": "259cede5",
   "metadata": {
    "vscode": {
     "languageId": "r"
    }
   },
   "outputs": [],
   "source": [
    "p <- plotNhoodGraph(Seu_Obj_milo)\n",
    "cowplot::save_plot('./noodplot_RNA_LaGrace.png', p,\n",
    "                   base_aspect_ratio = 1, base_height = 5)"
   ]
  },
  {
   "cell_type": "code",
   "execution_count": 22,
   "id": "8345069e",
   "metadata": {
    "vscode": {
     "languageId": "r"
    }
   },
   "outputs": [
    {
     "name": "stderr",
     "output_type": "stream",
     "text": [
      "Converting treatment_time to factor...\n",
      "\n"
     ]
    }
   ],
   "source": [
    "nhoods_sce = nhoods(Seu_Obj_milo)\n",
    "nhood_stat_ct = data.frame(Nhood = 1:ncol(nhoods_sce) , Nhood_center = colnames(nhoods_sce))\n",
    "nhood_stat_ct = miloR::annotateNhoods(Seu_Obj_milo , nhood_stat_ct , coldata_col = \"treatment_time\")\n",
    "nhood_stat_ct_laGrace <- nhood_stat_ct"
   ]
  },
  {
   "cell_type": "code",
   "execution_count": 50,
   "id": "48e17715",
   "metadata": {
    "vscode": {
     "languageId": "r"
    }
   },
   "outputs": [],
   "source": [
    "nhood_stat_ct_RNA$Group <- 'RNA'\n",
    "nhood_stat_ct_SCVI$Group <- 'Imputed\\nRNA'\n",
    "nhood_stat_ct_laGrace$Group <- 'LaGrACE'\n",
    "nhood_stat_ct_Spectra$Group <- 'Spectra'\n",
    "nhood_stat_ct_expiMAP$Group <- 'ExpiMap'\n",
    "\n",
    "\n",
    "nhood_stat_ct<-rbind(nhood_stat_ct_RNA,nhood_stat_ct_SCVI,nhood_stat_ct_laGrace,nhood_stat_ct_Spectra,nhood_stat_ct_expiMAP)\n",
    "nhood_stat_ct$Group <- factor(nhood_stat_ct$Group , levels = c('RNA','Imputed\\nRNA','LaGrACE','Spectra','ExpiMap'))"
   ]
  },
  {
   "cell_type": "code",
   "execution_count": 52,
   "id": "da0168d3",
   "metadata": {
    "vscode": {
     "languageId": "r"
    }
   },
   "outputs": [],
   "source": [
    "p<- nhood_stat_ct %>%\n",
    "ggplot( aes(x= Group,y =treatment_time_fraction, fill=Group)) +\n",
    "geom_boxplot(\n",
    "        # custom boxes\n",
    "        color=\"blue\",\n",
    "        fill=\"blue\",\n",
    "        alpha=0.2,\n",
    "        # Notch?\n",
    "        notch=TRUE,\n",
    "        notchwidth = 0.8,\n",
    "        \n",
    "    ) +\n",
    "    theme_classic() +\n",
    "    ylab('Cell Type Purity') + xlab('')"
   ]
  },
  {
   "cell_type": "code",
   "execution_count": 60,
   "id": "2b2131de",
   "metadata": {
    "vscode": {
     "languageId": "r"
    }
   },
   "outputs": [],
   "source": [
    "p_val <-p + stat_compare_means(comparison = list(c('LaGrACE','Imputed\\nRNA'),c('RNA','LaGrACE'),c('Spectra','LaGrACE'),c('Spectra','ExpiMap')), \n",
    "method = \"t.test\") \n",
    "\n",
    "cowplot::save_plot('./V6/batplot_celltype_purity.png', p_val,\n",
    "                   base_aspect_ratio = 1, base_height = 3.75)\n",
    "\n",
    "cowplot::save_plot('./V6/batplot_celltype_purity.pdf', p_val,\n",
    "                   base_aspect_ratio = 1, base_height = 3.75)"
   ]
  },
  {
   "cell_type": "code",
   "execution_count": 55,
   "id": "2b7cf585",
   "metadata": {
    "vscode": {
     "languageId": "r"
    }
   },
   "outputs": [
    {
     "name": "stderr",
     "output_type": "stream",
     "text": [
      "Warning message:\n",
      "\"\u001b[1m\u001b[22mComputation failed in `stat_signif()`\n",
      "Caused by error in `t.test.default()`:\n",
      "\u001b[33m!\u001b[39m not enough 'y' observations\"\n"
     ]
    },
    {
     "data": {
      "image/png": "[encoded data removed]",
      "text/plain": [
       "plot without title"
      ]
     },
     "metadata": {
      "image/png": {
       "height": 420,
       "width": 420
      }
     },
     "output_type": "display_data"
    }
   ],
   "source": [
    "p_val"
   ]
  },
  {
   "cell_type": "code",
   "execution_count": null,
   "id": "ae2a993f",
   "metadata": {
    "vscode": {
     "languageId": "r"
    }
   },
   "outputs": [],
   "source": []
  }
 ],
 "metadata": {
  "kernelspec": {
   "display_name": "R",
   "language": "R",
   "name": "ir"
  },
  "language_info": {
   "codemirror_mode": "r",
   "file_extension": ".r",
   "mimetype": "text/x-r-source",
   "name": "R",
   "pygments_lexer": "r",
   "version": "4.2.3"
  }
 },
 "nbformat": 4,
 "nbformat_minor": 5
}
